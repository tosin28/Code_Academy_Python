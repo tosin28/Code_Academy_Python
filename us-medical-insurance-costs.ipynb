{
 "cells": [
  {
   "cell_type": "markdown",
   "metadata": {},
   "source": [
    "# U.S. Medical Insurance Costs"
   ]
  },
  {
   "cell_type": "markdown",
   "metadata": {},
   "source": [
    "We have a CSV dataset in a file. Headers are [age, sex, bmi, children, smoker, region, charges] and in all lower case. We will need to use the csv library to import and wrangle this data. Have fun!\n",
    "\n",
    "This CSV has raw data. What to do... Well, we will have to understand the data and find meaning in it. Generate the standard fare (mean, median, mode, etc) where possible. Perhaps do a regression to identify risk of smoking by sex, an insurance cost predictor, correlation between smoking and BMI, correlation between BMI and having kids, average cost per region, and likelihood of being a smoker by region."
   ]
  },
  {
   "cell_type": "code",
   "execution_count": 27,
   "metadata": {},
   "outputs": [],
   "source": [
    "#import insurance.csv and inspect contents. Use csv.DictReader to pull data into a dictionary\n",
    "#pull data from key/value dictionary and put in lists to make it easier to work with the data\n",
    "\n",
    "import csv\n",
    "\n",
    "age_list = []\n",
    "sex_list = []\n",
    "bmi_list = []\n",
    "children_list = []\n",
    "smoker_status_list = []\n",
    "region_list = []\n",
    "insurance_cost_list = []\n",
    "with open('insurance.csv', newline = '') as insurance_csv:\n",
    "    insurance_dict = csv.DictReader(insurance_csv)\n",
    "    for item in insurance_dict:\n",
    "        age_list.append(int(item['age']))\n",
    "        sex_list.append(item['sex'])\n",
    "        bmi_list.append(item['bmi'])\n",
    "        children_list.append(int(item['children']))\n",
    "        smoker_status_list.append(item['smoker'])\n",
    "        region_list.append(item['region'])\n",
    "        insurance_cost_list.append(float(item['charges']))\n",
    "#print(age_list)\n",
    "#print(children_list)\n",
    "#print(insurance_cost_list)\n",
    "\n",
    "#Now we have our data in lists, we can use the data more easily in analytical functions\n",
    "\n",
    "\n",
    "\n"
   ]
  },
  {
   "cell_type": "markdown",
   "metadata": {},
   "source": [
    "Next, we will build a function that shows us the impact of smoking on insurance costs by taking in age, and returns an insurance cost estimate for the customer as a smoker, and another as a non-smoker. This will be done by doing a linear regression on the available data to find a slope that works best for the datapoints, and using that slope and intercept value to determine the y(insurance cost) for any corresponding X(age) for smokers and non smokers"
   ]
  },
  {
   "cell_type": "code",
   "execution_count": 48,
   "metadata": {},
   "outputs": [],
   "source": [
    "\n",
    "def get_cost(m, b, age):\n",
    "  cost = (m*age)+b\n",
    "  return cost\n",
    "\n",
    "def calculate_error_nonsmoker(m, b, point):\n",
    "    age, ins_cost, smoker_status = point\n",
    "    if smoker_status == 'no':\n",
    "        cost_err = abs(get_cost(m, b, age) - ins_cost)\n",
    "        return cost_err\n",
    "    else:\n",
    "        return 0\n",
    "\n",
    "def calculate_error_smoker(m, b, point):\n",
    "    age, ins_cost, smoker_status = point\n",
    "    if smoker_status == 'yes':\n",
    "        cost_err = abs(get_cost(m, b, age) - ins_cost)\n",
    "        return cost_err\n",
    "    else:\n",
    "        return 0\n",
    "\n",
    "def calculate_all_error_smoker(m, b, point_list):\n",
    "    smoker_error_sum = 0\n",
    "    for item in point_list:\n",
    "        smoker_error_sum += calculate_error_smoker(m, b, item)\n",
    "    return smoker_error_sum\n",
    "\n",
    "def calculate_all_error_nonsmoker(m, b, point_list):\n",
    "    nonsmoker_error_sum = 0\n",
    "    for item in point_list:\n",
    "        nonsmoker_error_sum += calculate_error_nonsmoker(m, b, item)\n",
    "    return nonsmoker_error_sum\n",
    "#After running the regression with very wide parameters (resource intensive),\n",
    "# we can narrow the values down after getting initial results that show similar slopes\n",
    "# for smokers and non smokers, but very different intercepts.\n",
    "#possible_ms = [m * 1 for m in range(-10000, 10000)]\n",
    "#possible_bs = [b * 1 for b in range(-200000, 200000, 1000)]\n",
    "possible_ms_smoker = [m * 0.1 for m in range(2800, 3400)]\n",
    "possible_ms_nonsmoker = [m * 0.1 for m in range(2000, 3000)]\n",
    "\n",
    "possible_bs_smoker = [b * 1 for b in range(25000, 27000, 10)]\n",
    "possible_bs_nonsmoker = [b * 1 for b in range(-4000, -2000, 10)]\n",
    "\n",
    "datapoints = list(zip(age_list, insurance_cost_list, smoker_status_list))\n",
    "\n",
    "#debugging\n",
    "#print(calculate_all_error_nonsmoker(1000, 20000, datapoints))\n",
    "#quick sanity check\n",
    "#print(datapoints)\n",
    "#print(possible_ms)\n",
    "#print(possible_bs)\n",
    "\n",
    "\n"
   ]
  },
  {
   "cell_type": "markdown",
   "metadata": {},
   "source": [
    "Now, we figure out the best slope and intercept for smokers, (and separate ones for non-smokers) that minimizes the error from the real-life data in our dataset, and the modeled data from our linear regression slope and intercept."
   ]
  },
  {
   "cell_type": "code",
   "execution_count": 49,
   "metadata": {},
   "outputs": [
    {
     "name": "stdout",
     "output_type": "stream",
     "text": [
      "315.40000000000003 25600 2656210.14078\n"
     ]
    }
   ],
   "source": [
    "#for smokers\n",
    "\n",
    "smallest_error_smoker = float('inf')\n",
    "best_m_smoker = 0\n",
    "best_b_smoker = 0\n",
    "\n",
    "for m in possible_ms_smoker:\n",
    "    for b in possible_bs_smoker:\n",
    "        temp_error = calculate_all_error_smoker(m, b, datapoints)\n",
    "        if temp_error < smallest_error_smoker:\n",
    "            smallest_error_smoker = temp_error\n",
    "            best_m_smoker = m\n",
    "            best_b_smoker = b\n",
    "        else:\n",
    "            continue\n",
    "print(best_m_smoker, best_b_smoker, smallest_error_smoker)"
   ]
  },
  {
   "cell_type": "code",
   "execution_count": 50,
   "metadata": {},
   "outputs": [
    {
     "name": "stdout",
     "output_type": "stream",
     "text": [
      "267.7 -3470 2108429.6146190027\n"
     ]
    }
   ],
   "source": [
    "#for non-smokers\n",
    "smallest_error_nonsmoker = float('inf')\n",
    "best_m_nonsmoker = 0\n",
    "best_b_nonsmoker = 0\n",
    "\n",
    "for m in possible_ms_nonsmoker:\n",
    "    for b in possible_bs_nonsmoker:\n",
    "        temp_error = calculate_all_error_nonsmoker(m, b, datapoints)\n",
    "        if temp_error < smallest_error_nonsmoker:\n",
    "            smallest_error_nonsmoker = temp_error\n",
    "            best_m_nonsmoker = m\n",
    "            best_b_nonsmoker = b\n",
    "        else:\n",
    "            continue\n",
    "print(best_m_nonsmoker, best_b_nonsmoker, smallest_error_nonsmoker)"
   ]
  },
  {
   "cell_type": "markdown",
   "metadata": {},
   "source": [
    "Now, we can take the information above and use it to create a function that generates an estimated cost for health insurance for an individual using data on age and smoker status."
   ]
  },
  {
   "cell_type": "code",
   "execution_count": 54,
   "metadata": {},
   "outputs": [
    {
     "name": "stdout",
     "output_type": "stream",
     "text": [
      "Please enter valid smoker_status of 'yes' or 'no' and an integer age value\n"
     ]
    },
    {
     "data": {
      "text/plain": [
       "0"
      ]
     },
     "execution_count": 54,
     "metadata": {},
     "output_type": "execute_result"
    }
   ],
   "source": [
    "# Now we build a function that takes in age and smoker status and returns an estimated insurance cost\n",
    "\n",
    "def insurance_estimator(age, smoker_status):\n",
    "    insurance_cost_estimate = 0\n",
    "    if smoker_status == 'yes':\n",
    "        insurance_cost_estimate = get_cost(best_m_smoker, best_b_smoker, age)\n",
    "        print(\"The estimated insurance cost for a\", age, \"year old smoker is\", insurance_cost_estimate, \"dollars\")\n",
    "    elif smoker_status == 'no':\n",
    "        insurance_cost_estimate = get_cost(best_m_nonsmoker, best_b_nonsmoker, age)\n",
    "        print(\"The estimated insurance cost for a\", age, \"year old non-smoker is\", insurance_cost_estimate, \"dollars\")\n",
    "    else:\n",
    "        print(\"Please enter valid smoker_status of 'yes' or 'no' and an integer age value\")\n",
    "    return 0\n",
    "\n",
    "insurance_estimator(33, 'maybe')\n"
   ]
  }
 ],
 "metadata": {
  "kernelspec": {
   "display_name": "Python 3.10.1 64-bit",
   "language": "python",
   "name": "python3"
  },
  "language_info": {
   "codemirror_mode": {
    "name": "ipython",
    "version": 3
   },
   "file_extension": ".py",
   "mimetype": "text/x-python",
   "name": "python",
   "nbconvert_exporter": "python",
   "pygments_lexer": "ipython3",
   "version": "3.10.1"
  },
  "vscode": {
   "interpreter": {
    "hash": "aee8b7b246df8f9039afb4144a1f6fd8d2ca17a180786b69acc140d282b71a49"
   }
  }
 },
 "nbformat": 4,
 "nbformat_minor": 4
}
